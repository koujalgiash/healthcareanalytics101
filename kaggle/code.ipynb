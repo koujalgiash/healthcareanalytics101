{
 "cells": [
  {
   "cell_type": "code",
   "execution_count": null,
   "id": "1ed7a00d",
   "metadata": {},
   "outputs": [],
   "source": [
    "import pandas as pd\n",
    "from utils import CSV_DAILY_ACTIVITY_MERGED, CSV_DAILY_SLEEP, CSV_HOURLY_STEPS"
   ]
  },
  {
   "cell_type": "markdown",
   "id": "d7afe7b2",
   "metadata": {},
   "source": [
    "# Preview datasets"
   ]
  },
  {
   "cell_type": "code",
   "execution_count": 26,
   "id": "81dc81e1",
   "metadata": {},
   "outputs": [
    {
     "name": "stdout",
     "output_type": "stream",
     "text": [
      "             Id ActivityDate  TotalSteps  TotalDistance  TrackerDistance  \\\n",
      "0    1503960366    4/12/2016       13162       8.500000         8.500000   \n",
      "1    1503960366    4/13/2016       10735       6.970000         6.970000   \n",
      "2    1503960366    4/14/2016       10460       6.740000         6.740000   \n",
      "3    1503960366    4/15/2016        9762       6.280000         6.280000   \n",
      "4    1503960366    4/16/2016       12669       8.160000         8.160000   \n",
      "..          ...          ...         ...            ...              ...   \n",
      "935  8877689391     5/8/2016       10686       8.110000         8.110000   \n",
      "936  8877689391     5/9/2016       20226      18.250000        18.250000   \n",
      "937  8877689391    5/10/2016       10733       8.150000         8.150000   \n",
      "938  8877689391    5/11/2016       21420      19.559999        19.559999   \n",
      "939  8877689391    5/12/2016        8064       6.120000         6.120000   \n",
      "\n",
      "     LoggedActivitiesDistance  VeryActiveDistance  ModeratelyActiveDistance  \\\n",
      "0                         0.0                1.88                      0.55   \n",
      "1                         0.0                1.57                      0.69   \n",
      "2                         0.0                2.44                      0.40   \n",
      "3                         0.0                2.14                      1.26   \n",
      "4                         0.0                2.71                      0.41   \n",
      "..                        ...                 ...                       ...   \n",
      "935                       0.0                1.08                      0.20   \n",
      "936                       0.0               11.10                      0.80   \n",
      "937                       0.0                1.35                      0.46   \n",
      "938                       0.0               13.22                      0.41   \n",
      "939                       0.0                1.82                      0.04   \n",
      "\n",
      "     LightActiveDistance  SedentaryActiveDistance  VeryActiveMinutes  \\\n",
      "0                   6.06                     0.00                 25   \n",
      "1                   4.71                     0.00                 21   \n",
      "2                   3.91                     0.00                 30   \n",
      "3                   2.83                     0.00                 29   \n",
      "4                   5.04                     0.00                 36   \n",
      "..                   ...                      ...                ...   \n",
      "935                 6.80                     0.00                 17   \n",
      "936                 6.24                     0.05                 73   \n",
      "937                 6.28                     0.00                 18   \n",
      "938                 5.89                     0.00                 88   \n",
      "939                 4.25                     0.00                 23   \n",
      "\n",
      "     FairlyActiveMinutes  LightlyActiveMinutes  SedentaryMinutes  Calories  \n",
      "0                     13                   328               728      1985  \n",
      "1                     19                   217               776      1797  \n",
      "2                     11                   181              1218      1776  \n",
      "3                     34                   209               726      1745  \n",
      "4                     10                   221               773      1863  \n",
      "..                   ...                   ...               ...       ...  \n",
      "935                    4                   245              1174      2847  \n",
      "936                   19                   217              1131      3710  \n",
      "937                   11                   224              1187      2832  \n",
      "938                   12                   213              1127      3832  \n",
      "939                    1                   137               770      1849  \n",
      "\n",
      "[940 rows x 15 columns]\n",
      "             Id               SleepDay  TotalSleepRecords  TotalMinutesAsleep  \\\n",
      "0    1503960366  4/12/2016 12:00:00 AM                  1                 327   \n",
      "1    1503960366  4/13/2016 12:00:00 AM                  2                 384   \n",
      "2    1503960366  4/15/2016 12:00:00 AM                  1                 412   \n",
      "3    1503960366  4/16/2016 12:00:00 AM                  2                 340   \n",
      "4    1503960366  4/17/2016 12:00:00 AM                  1                 700   \n",
      "..          ...                    ...                ...                 ...   \n",
      "408  8792009665  4/30/2016 12:00:00 AM                  1                 343   \n",
      "409  8792009665   5/1/2016 12:00:00 AM                  1                 503   \n",
      "410  8792009665   5/2/2016 12:00:00 AM                  1                 415   \n",
      "411  8792009665   5/3/2016 12:00:00 AM                  1                 516   \n",
      "412  8792009665   5/4/2016 12:00:00 AM                  1                 439   \n",
      "\n",
      "     TotalTimeInBed  \n",
      "0               346  \n",
      "1               407  \n",
      "2               442  \n",
      "3               367  \n",
      "4               712  \n",
      "..              ...  \n",
      "408             360  \n",
      "409             527  \n",
      "410             423  \n",
      "411             545  \n",
      "412             463  \n",
      "\n",
      "[413 rows x 5 columns]\n",
      "               Id           ActivityHour  StepTotal\n",
      "0      1503960366  4/12/2016 12:00:00 AM        373\n",
      "1      1503960366   4/12/2016 1:00:00 AM        160\n",
      "2      1503960366   4/12/2016 2:00:00 AM        151\n",
      "3      1503960366   4/12/2016 3:00:00 AM          0\n",
      "4      1503960366   4/12/2016 4:00:00 AM          0\n",
      "...           ...                    ...        ...\n",
      "22094  8877689391  5/12/2016 10:00:00 AM        514\n",
      "22095  8877689391  5/12/2016 11:00:00 AM       1407\n",
      "22096  8877689391  5/12/2016 12:00:00 PM       3135\n",
      "22097  8877689391   5/12/2016 1:00:00 PM        307\n",
      "22098  8877689391   5/12/2016 2:00:00 PM        457\n",
      "\n",
      "[22099 rows x 3 columns]\n"
     ]
    }
   ],
   "source": [
    "daily_activity = pd.read_csv(CSV_DAILY_ACTIVITY_MERGED)\n",
    "daily_sleep = pd.read_csv(CSV_DAILY_SLEEP)\n",
    "hourly_steps = pd.read_csv(CSV_HOURLY_STEPS)\n",
    "\n",
    "print(daily_activity)\n",
    "print(daily_sleep)\n",
    "print(hourly_steps)"
   ]
  },
  {
   "cell_type": "markdown",
   "id": "ba1fb6e0",
   "metadata": {},
   "source": [
    "# Descriptive Statistics"
   ]
  },
  {
   "cell_type": "code",
   "execution_count": null,
   "id": "5e689c63",
   "metadata": {},
   "outputs": [],
   "source": [
    "print(daily_activity.describe())\n",
    "print(daily_sleep.describe())\n",
    "print(hourly_steps.describe())"
   ]
  },
  {
   "cell_type": "markdown",
   "id": "2040a1c6",
   "metadata": {},
   "source": [
    "# Verifying number of unique users per dataset"
   ]
  },
  {
   "cell_type": "code",
   "execution_count": null,
   "id": "767af9cb",
   "metadata": {},
   "outputs": [],
   "source": [
    "users_in_daily_activity = daily_activity['Id'].nunique()\n",
    "users_in_daily_sleep = daily_sleep['Id'].nunique()\n",
    "users_in_hourly_steps = hourly_steps['Id'].nunique()\n",
    "\n",
    "print(\"Number of users in daily activity is:\", users_in_daily_activity)\n",
    "print(\"Number of users in daily sleep is:\", users_in_daily_sleep)\n",
    "print(\"Number of users in hourly steps is:\", users_in_hourly_steps)"
   ]
  },
  {
   "cell_type": "markdown",
   "id": "38c53bd9",
   "metadata": {},
   "source": [
    "# Find and remove duplicates "
   ]
  },
  {
   "cell_type": "code",
   "execution_count": null,
   "id": "db7641eb",
   "metadata": {},
   "outputs": [],
   "source": [
    "print(\"Number of duplicates in daily activity is:\", daily_activity.duplicated().sum())\n",
    "print(\"Number of duplicates in daily sleep is:\", daily_sleep.duplicated().sum())\n",
    "print(\"Number of duplicates in hourly steps is:\", hourly_steps.duplicated().sum())\n",
    "\n",
    "daily_activity.drop_duplicates(inplace=True)\n",
    "daily_sleep.drop_duplicates(inplace=True)\n",
    "hourly_steps.drop_duplicates(inplace=True)\n",
    "\n",
    "\n",
    "# To verify the dataframe\n",
    "\n",
    "# print(\"Updated_Number of duplicates in daily activity is:\", daily_activity.duplicated().sum())\n",
    "print(\"Updated_Number of duplicates in daily sleep is:\", daily_sleep.duplicated().sum())\n",
    "# print(\"Updated_Number of duplicates in hourly steps is:\", hourly_steps.duplicated().sum())"
   ]
  },
  {
   "cell_type": "markdown",
   "id": "4d7bd89f",
   "metadata": {},
   "source": [
    "# Clean columns and merge datasets"
   ]
  },
  {
   "cell_type": "code",
   "execution_count": null,
   "id": "2910ce1b",
   "metadata": {},
   "outputs": [],
   "source": [
    "#To ensure that column names use the right syntax and same format in all datasets since they will be merged later on\n",
    "\n",
    "daily_activity.columns = daily_activity.columns.str.lower()\n",
    "daily_sleep.columns = daily_sleep.columns.str.lower()\n",
    "hourly_steps.columns = hourly_steps.columns.str.lower()"
   ]
  },
  {
   "cell_type": "code",
   "execution_count": null,
   "id": "26fb40c0",
   "metadata": {},
   "outputs": [],
   "source": [
    "# Consistency of date and time columns in 'daily_activity' and 'daily_sleep'\n",
    "\n",
    "# Rename columns\n",
    "daily_activity.rename(columns={'activitydate': 'date'}, inplace=True)\n",
    "daily_sleep.rename(columns={'sleepday': 'date'}, inplace=True)\n",
    "\n",
    "# Convert to datetime\n",
    "daily_activity['date'] = pd.to_datetime(daily_activity['date'], format=\"%m/%d/%Y\")\n",
    "\n",
    "daily_sleep['date'] = pd.to_datetime(\n",
    "    daily_sleep['date'],\n",
    "    format=\"%m/%d/%Y %I:%M:%S %p\" #12-hour time with AM/PM\n",
    ")\n",
    "\n",
    "# print (daily_activity)\n",
    "# print (daily_sleep)"
   ]
  },
  {
   "cell_type": "code",
   "execution_count": null,
   "id": "6437e87e",
   "metadata": {},
   "outputs": [],
   "source": [
    "# For our hourly_steps dataset we will convert date string to date-time.\n",
    "\n",
    "hourly_steps.rename(columns={'activityhour': 'date_time'}, inplace= True)\n",
    "\n",
    "hourly_steps['date_time'] = pd.to_datetime(\n",
    "    hourly_steps['date_time'],\n",
    "    format=\"%m/%d/%Y %I:%M:%S %p\" #12-hour time with AM/PM.\n",
    ")\n",
    "\n",
    "# print(hourly_steps)"
   ]
  },
  {
   "cell_type": "code",
   "execution_count": null,
   "id": "daee8530",
   "metadata": {},
   "outputs": [],
   "source": [
    "# Merge datasets on columns 'id' and 'date'\n",
    "daily_activity_sleep = pd.merge(\n",
    "    daily_activity,\n",
    "    daily_sleep,\n",
    "    on=['id', 'date'],\n",
    "    how='inner'\n",
    ")\n",
    "\n",
    "print(daily_activity_sleep)"
   ]
  },
  {
   "cell_type": "markdown",
   "id": "dcacccae",
   "metadata": {},
   "source": [
    "# Analysing trends of the users"
   ]
  },
  {
   "cell_type": "code",
   "execution_count": null,
   "id": "87c03d6c",
   "metadata": {},
   "outputs": [],
   "source": [
    "# Type of users per activity level\n",
    "\n"
   ]
  }
 ],
 "metadata": {
  "kernelspec": {
   "display_name": "venv",
   "language": "python",
   "name": "python3"
  },
  "language_info": {
   "codemirror_mode": {
    "name": "ipython",
    "version": 3
   },
   "file_extension": ".py",
   "mimetype": "text/x-python",
   "name": "python",
   "nbconvert_exporter": "python",
   "pygments_lexer": "ipython3",
   "version": "3.13.0"
  }
 },
 "nbformat": 4,
 "nbformat_minor": 5
}
