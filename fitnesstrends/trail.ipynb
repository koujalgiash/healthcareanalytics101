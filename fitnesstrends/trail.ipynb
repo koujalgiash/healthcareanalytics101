{
 "cells": [
  {
   "cell_type": "code",
   "execution_count": null,
   "id": "1ed7a00d",
   "metadata": {},
   "outputs": [],
   "source": [
    "import pandas as pd\n",
    "import matplotlib.pyplot as plt\n",
    "\n",
    "from utils import CSV_DAILY_ACTIVITY_MERGED, CSV_DAILY_SLEEP, CSV_HOURLY_STEPS"
   ]
  },
  {
   "cell_type": "markdown",
   "id": "d7afe7b2",
   "metadata": {},
   "source": [
    "# Preview datasets"
   ]
  },
  {
   "cell_type": "code",
   "execution_count": null,
   "id": "81dc81e1",
   "metadata": {},
   "outputs": [],
   "source": [
    "daily_activity = pd.read_csv(CSV_DAILY_ACTIVITY_MERGED)\n",
    "daily_sleep = pd.read_csv(CSV_DAILY_SLEEP)\n",
    "hourly_steps = pd.read_csv(CSV_HOURLY_STEPS)\n",
    "\n",
    "print(daily_activity)\n",
    "print(daily_sleep)\n",
    "print(hourly_steps)"
   ]
  },
  {
   "cell_type": "markdown",
   "id": "ba1fb6e0",
   "metadata": {},
   "source": [
    "# Descriptive Statistics"
   ]
  },
  {
   "cell_type": "code",
   "execution_count": null,
   "id": "5e689c63",
   "metadata": {},
   "outputs": [],
   "source": [
    "print(daily_activity.describe())\n",
    "print(daily_sleep.describe())\n",
    "print(hourly_steps.describe())"
   ]
  },
  {
   "cell_type": "markdown",
   "id": "2040a1c6",
   "metadata": {},
   "source": [
    "# Verifying number of unique users per dataset"
   ]
  },
  {
   "cell_type": "code",
   "execution_count": 4,
   "id": "767af9cb",
   "metadata": {},
   "outputs": [
    {
     "name": "stdout",
     "output_type": "stream",
     "text": [
      "Number of users in daily activity is: 33\n",
      "Number of users in daily sleep is: 24\n",
      "Number of users in hourly steps is: 33\n"
     ]
    }
   ],
   "source": [
    "users_in_daily_activity = daily_activity['Id'].nunique()\n",
    "users_in_daily_sleep = daily_sleep['Id'].nunique()\n",
    "users_in_hourly_steps = hourly_steps['Id'].nunique()\n",
    "\n",
    "print(\"Number of users in daily activity is:\", users_in_daily_activity)\n",
    "print(\"Number of users in daily sleep is:\", users_in_daily_sleep)\n",
    "print(\"Number of users in hourly steps is:\", users_in_hourly_steps)"
   ]
  },
  {
   "cell_type": "markdown",
   "id": "38c53bd9",
   "metadata": {},
   "source": [
    "# Find and remove duplicates "
   ]
  },
  {
   "cell_type": "code",
   "execution_count": 5,
   "id": "db7641eb",
   "metadata": {},
   "outputs": [
    {
     "name": "stdout",
     "output_type": "stream",
     "text": [
      "Number of duplicates in daily activity is: 0\n",
      "Number of duplicates in daily sleep is: 3\n",
      "Number of duplicates in hourly steps is: 0\n",
      "Updated_Number of duplicates in daily sleep is: 0\n"
     ]
    }
   ],
   "source": [
    "print(\"Number of duplicates in daily activity is:\", daily_activity.duplicated().sum())\n",
    "print(\"Number of duplicates in daily sleep is:\", daily_sleep.duplicated().sum())\n",
    "print(\"Number of duplicates in hourly steps is:\", hourly_steps.duplicated().sum())\n",
    "\n",
    "daily_activity.drop_duplicates(inplace=True)\n",
    "daily_sleep.drop_duplicates(inplace=True)\n",
    "hourly_steps.drop_duplicates(inplace=True)\n",
    "\n",
    "\n",
    "# To verify the dataframe\n",
    "\n",
    "# print(\"Updated_Number of duplicates in daily activity is:\", daily_activity.duplicated().sum())\n",
    "print(\"Updated_Number of duplicates in daily sleep is:\", daily_sleep.duplicated().sum())\n",
    "# print(\"Updated_Number of duplicates in hourly steps is:\", hourly_steps.duplicated().sum())"
   ]
  },
  {
   "cell_type": "markdown",
   "id": "4d7bd89f",
   "metadata": {},
   "source": [
    "# Clean columns and merge datasets"
   ]
  },
  {
   "cell_type": "code",
   "execution_count": 6,
   "id": "2910ce1b",
   "metadata": {},
   "outputs": [],
   "source": [
    "#To ensure that column names use the right syntax and same format in all datasets since they will be merged later on\n",
    "\n",
    "daily_activity.columns = daily_activity.columns.str.lower()\n",
    "daily_sleep.columns = daily_sleep.columns.str.lower()\n",
    "hourly_steps.columns = hourly_steps.columns.str.lower()"
   ]
  },
  {
   "cell_type": "code",
   "execution_count": 7,
   "id": "26fb40c0",
   "metadata": {},
   "outputs": [],
   "source": [
    "# Consistency of date and time columns in 'daily_activity' and 'daily_sleep'\n",
    "\n",
    "# Rename columns\n",
    "daily_activity.rename(columns={'activitydate': 'date'}, inplace=True)\n",
    "daily_sleep.rename(columns={'sleepday': 'date'}, inplace=True)\n",
    "\n",
    "# Convert to datetime\n",
    "daily_activity['date'] = pd.to_datetime(daily_activity['date'], format=\"%m/%d/%Y\")\n",
    "\n",
    "daily_sleep['date'] = pd.to_datetime(\n",
    "    daily_sleep['date'],\n",
    "    format=\"%m/%d/%Y %I:%M:%S %p\" #12-hour time with AM/PM\n",
    ")\n",
    "\n",
    "# print (daily_activity)\n",
    "# print (daily_sleep)"
   ]
  },
  {
   "cell_type": "code",
   "execution_count": 8,
   "id": "6437e87e",
   "metadata": {},
   "outputs": [],
   "source": [
    "# For our hourly_steps dataset we will convert date string to date-time.\n",
    "\n",
    "hourly_steps.rename(columns={'activityhour': 'date_time'}, inplace= True)\n",
    "\n",
    "hourly_steps['date_time'] = pd.to_datetime(\n",
    "    hourly_steps['date_time'],\n",
    "    format=\"%m/%d/%Y %I:%M:%S %p\" #12-hour time with AM/PM.\n",
    ")\n",
    "\n",
    "# print(hourly_steps)"
   ]
  },
  {
   "cell_type": "code",
   "execution_count": 9,
   "id": "daee8530",
   "metadata": {},
   "outputs": [
    {
     "name": "stdout",
     "output_type": "stream",
     "text": [
      "             id       date  totalsteps  totaldistance  trackerdistance  \\\n",
      "0    1503960366 2016-04-12       13162           8.50             8.50   \n",
      "1    1503960366 2016-04-13       10735           6.97             6.97   \n",
      "2    1503960366 2016-04-15        9762           6.28             6.28   \n",
      "3    1503960366 2016-04-16       12669           8.16             8.16   \n",
      "4    1503960366 2016-04-17        9705           6.48             6.48   \n",
      "..          ...        ...         ...            ...              ...   \n",
      "405  8792009665 2016-04-30        7174           4.59             4.59   \n",
      "406  8792009665 2016-05-01        1619           1.04             1.04   \n",
      "407  8792009665 2016-05-02        1831           1.17             1.17   \n",
      "408  8792009665 2016-05-03        2421           1.55             1.55   \n",
      "409  8792009665 2016-05-04        2283           1.46             1.46   \n",
      "\n",
      "     loggedactivitiesdistance  veryactivedistance  moderatelyactivedistance  \\\n",
      "0                         0.0                1.88                      0.55   \n",
      "1                         0.0                1.57                      0.69   \n",
      "2                         0.0                2.14                      1.26   \n",
      "3                         0.0                2.71                      0.41   \n",
      "4                         0.0                3.19                      0.78   \n",
      "..                        ...                 ...                       ...   \n",
      "405                       0.0                0.33                      0.36   \n",
      "406                       0.0                0.00                      0.00   \n",
      "407                       0.0                0.00                      0.00   \n",
      "408                       0.0                0.00                      0.00   \n",
      "409                       0.0                0.00                      0.00   \n",
      "\n",
      "     lightactivedistance  sedentaryactivedistance  veryactiveminutes  \\\n",
      "0                   6.06                      0.0                 25   \n",
      "1                   4.71                      0.0                 21   \n",
      "2                   2.83                      0.0                 29   \n",
      "3                   5.04                      0.0                 36   \n",
      "4                   2.51                      0.0                 38   \n",
      "..                   ...                      ...                ...   \n",
      "405                 3.91                      0.0                 10   \n",
      "406                 1.04                      0.0                  0   \n",
      "407                 1.17                      0.0                  0   \n",
      "408                 1.55                      0.0                  0   \n",
      "409                 1.46                      0.0                  0   \n",
      "\n",
      "     fairlyactiveminutes  lightlyactiveminutes  sedentaryminutes  calories  \\\n",
      "0                     13                   328               728      1985   \n",
      "1                     19                   217               776      1797   \n",
      "2                     34                   209               726      1745   \n",
      "3                     10                   221               773      1863   \n",
      "4                     20                   164               539      1728   \n",
      "..                   ...                   ...               ...       ...   \n",
      "405                   20                   301               749      2896   \n",
      "406                    0                    79               834      1962   \n",
      "407                    0                   101               916      2015   \n",
      "408                    0                   156               739      2297   \n",
      "409                    0                   129               848      2067   \n",
      "\n",
      "     totalsleeprecords  totalminutesasleep  totaltimeinbed  \n",
      "0                    1                 327             346  \n",
      "1                    2                 384             407  \n",
      "2                    1                 412             442  \n",
      "3                    2                 340             367  \n",
      "4                    1                 700             712  \n",
      "..                 ...                 ...             ...  \n",
      "405                  1                 343             360  \n",
      "406                  1                 503             527  \n",
      "407                  1                 415             423  \n",
      "408                  1                 516             545  \n",
      "409                  1                 439             463  \n",
      "\n",
      "[410 rows x 18 columns]\n"
     ]
    }
   ],
   "source": [
    "# Merge datasets on columns 'id' and 'date'\n",
    "daily_activity_sleep = pd.merge(\n",
    "    daily_activity,\n",
    "    daily_sleep,\n",
    "    on=['id', 'date'],\n",
    "    how='inner'\n",
    ")\n",
    "\n",
    "print(daily_activity_sleep)"
   ]
  },
  {
   "cell_type": "markdown",
   "id": "dcacccae",
   "metadata": {},
   "source": [
    "# Analysing trends of the users"
   ]
  },
  {
   "cell_type": "code",
   "execution_count": null,
   "id": "87c03d6c",
   "metadata": {},
   "outputs": [],
   "source": [
    "# Type of users per activity level\n",
    "\n"
   ]
  }
 ],
 "metadata": {
  "kernelspec": {
   "display_name": "venv",
   "language": "python",
   "name": "python3"
  },
  "language_info": {
   "codemirror_mode": {
    "name": "ipython",
    "version": 3
   },
   "file_extension": ".py",
   "mimetype": "text/x-python",
   "name": "python",
   "nbconvert_exporter": "python",
   "pygments_lexer": "ipython3",
   "version": "3.13.0"
  }
 },
 "nbformat": 4,
 "nbformat_minor": 5
}
